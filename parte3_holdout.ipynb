{
 "cells": [
  {
   "cell_type": "code",
   "execution_count": 1,
   "id": "6341b112",
   "metadata": {},
   "outputs": [
    {
     "name": "stderr",
     "output_type": "stream",
     "text": [
      "C:\\Users\\lucas\\anaconda3\\Lib\\site-packages\\pandas\\core\\arrays\\masked.py:60: UserWarning: Pandas requires version '1.3.6' or newer of 'bottleneck' (version '1.3.5' currently installed).\n",
      "  from pandas.core import (\n"
     ]
    }
   ],
   "source": [
    "import pandas as pd\n",
    "import matplotlib.pyplot as plt\n",
    "import numpy as np\n",
    "import math \n",
    "import random"
   ]
  },
  {
   "cell_type": "code",
   "execution_count": null,
   "id": "c9eeedab",
   "metadata": {},
   "outputs": [],
   "source": [
    "#pip install chardet"
   ]
  },
  {
   "cell_type": "markdown",
   "id": "0dd06bf1",
   "metadata": {},
   "source": [
    "# Importando os dados"
   ]
  },
  {
   "cell_type": "code",
   "execution_count": 3,
   "id": "b6846ec0",
   "metadata": {},
   "outputs": [
    {
     "name": "stdout",
     "output_type": "stream",
     "text": [
      "Codificação detectada: None\n",
      "Erro ao ler o arquivo com pandas: 'utf-8' codec can't decode byte 0xaa in position 0: invalid start byte\n"
     ]
    }
   ],
   "source": [
    "import pandas as pd\n",
    "import chardet\n",
    "\n",
    "# Caminho do arquivo\n",
    "file_path = 'dataAll.txt'\n",
    "\n",
    "# Detectando a codificação do arquivo\n",
    "with open(file_path, 'rb') as f:\n",
    "    rawdata = f.read()\n",
    "    result = chardet.detect(rawdata)\n",
    "    encoding = result['encoding']\n",
    "    print(f\"Codificação detectada: {encoding}\")\n",
    "\n",
    "# Lendo o arquivo com pandas usando a codificação detectada\n",
    "try:\n",
    "    df = pd.read_csv(file_path, encoding=encoding, delimiter='\\t', header=None)\n",
    "    print(df)\n",
    "except Exception as e:\n",
    "    print(f\"Erro ao ler o arquivo com pandas: {e}\")\n"
   ]
  },
  {
   "cell_type": "code",
   "execution_count": null,
   "id": "e7818973",
   "metadata": {},
   "outputs": [],
   "source": [
    "dataset = pd.read_csv(\"dataHoldout.txt\", encoding='utf-8', delimiter='\\t', header=None)\n",
    "dataset"
   ]
  },
  {
   "cell_type": "code",
   "execution_count": null,
   "id": "0605c9c5",
   "metadata": {},
   "outputs": [],
   "source": []
  }
 ],
 "metadata": {
  "kernelspec": {
   "display_name": "Python 3 (ipykernel)",
   "language": "python",
   "name": "python3"
  },
  "language_info": {
   "codemirror_mode": {
    "name": "ipython",
    "version": 3
   },
   "file_extension": ".py",
   "mimetype": "text/x-python",
   "name": "python",
   "nbconvert_exporter": "python",
   "pygments_lexer": "ipython3",
   "version": "3.11.4"
  }
 },
 "nbformat": 4,
 "nbformat_minor": 5
}
